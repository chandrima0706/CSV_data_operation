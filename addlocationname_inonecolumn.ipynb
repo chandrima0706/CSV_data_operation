{
 "cells": [
  {
   "cell_type": "code",
   "execution_count": 1,
   "metadata": {},
   "outputs": [
    {
     "data": {
      "text/plain": [
       "'\\nCreated on Tue Jan  5 05:02:13 2021\\n\\n@author: chakrabartychandrima91@gmail.com\\n\\n'"
      ]
     },
     "execution_count": 1,
     "metadata": {},
     "output_type": "execute_result"
    }
   ],
   "source": [
    "# -*- coding: utf-8 -*-\n",
    "\"\"\"\n",
    "Created on Tue Jan  5 05:02:13 2021\n",
    "\n",
    "@author: chakrabartychandrima91@gmail.com\n",
    "\n",
    "\"\"\"\n"
   ]
  },
  {
   "cell_type": "code",
   "execution_count": 2,
   "metadata": {},
   "outputs": [],
   "source": [
    "import os\n",
    "import pandas as pd\n",
    "import numpy as np\n",
    "import glob\n",
    "from numpy import savetxt\n"
   ]
  },
  {
   "cell_type": "code",
   "execution_count": 38,
   "metadata": {},
   "outputs": [
    {
     "data": {
      "text/plain": [
       "'{\"AGARTALA\" : \"AGARTALA\",\"AGRA\" : \"AGRA\",\"AGRA_AERO\" : \"AGRA_AERO\",\"AHMEDABAD_\" : \"AHMEDABAD_\",\"AIZWAL\" : \"AIZWAL\",\"AIZWAL_LENGPUI_\" : \"AIZWAL_LENGPUI_\",\"AJMER\" : \"AJMER\",\"AJMER_IRRI\" : \"AJMER_IRRI\",\"ALIGARH\" : \"ALIGARH\",\"ALLAHABAD\" : \"ALLAHABAD\",\"ALLAHABAD_\" : \"ALLAHABAD_\",\"AMRAOTI\" : \"AMRAOTI\",\"AMRITSAR\" : \"AMRITSAR\",\"AURANGABAD\" : \"AURANGABAD\",\"BANGALORE\" : \"BANGALORE\",\"BAREILLY\" : \"BAREILLY\",\"BAREILLY_1\" : \"BAREILLY_1\",\"BARODA\" : \"BARODA\",\"BARODA_COLLEGE\" : \"BARODA_COLLEGE\",\"BELGAUM\" : \"BELGAUM\",\"BELGAUM_SAMBRE_\" : \"BELGAUM_SAMBRE_\",\"BHAGALPUR\" : \"BHAGALPUR\",\"BHOPAL_BAIRAGARH\" : \"BHOPAL_BAIRAGARH\",\"BHUBANESHWAR\" : \"BHUBANESHWAR\",\"CHANDIGARH\" : \"CHANDIGARH\",\"CHANDIGARH_IAF\" : \"CHANDIGARH_IAF\",\"CHENNAI_\" : \"CHENNAI_\",\"CHIKALTHANA\" : \"CHIKALTHANA\",\"COIMBATORE_PEELAMEDU_\" : \"COIMBATORE_PEELAMEDU_\",\"COIMBATORE_TOWN\" : \"COIMBATORE_TOWN\",\"DEHRA_DUN\" : \"DEHRA_DUN\",\"DHARAMSHALA\" : \"DHARAMSHALA\",\"DIU\" : \"DIU\",\"DOHAD\" : \"DOHAD\",\"ERODE\" : \"ERODE\",\"GANGTOK\" : \"GANGTOK\",\"GUWAHATI_BORJHAR\" : \"GUWAHATI_BORJHAR\",\"GWALIOR\" : \"GWALIOR\",\"IMPHAL_TULIHAL\" : \"IMPHAL_TULIHAL\",\"INDORE\" : \"INDORE\",\"JABALPUR\" : \"JABALPUR\",\"JAIPUR_IRRI\" : \"JAIPUR_IRRI\",\"JAIPUR_SANGANER_\" : \"JAIPUR_SANGANER_\",\"JAMMU\" : \"JAMMU\",\"JAMMU_AERO\" : \"JAMMU_AERO\",\"JHANSI\" : \"JHANSI\",\"KAKINADA\" : \"KAKINADA\",\"KANPUR\" : \"KANPUR\",\"KANPUR_CHAK.AERO\" : \"KANPUR_CHAK.AERO\",\"KANPUR_D.R.L.\" : \"KANPUR_D.R.L.\",\"KARNAL\" : \"KARNAL\",\"KAVARATTI\" : \"KAVARATTI\",\"KOCHI_\" : \"KOCHI_\",\"KOCHI_A.P.\" : \"KOCHI_A.P.\",\"KOHIMA\" : \"KOHIMA\",\"KOLKATA_\" : \"KOLKATA_\",\"KOLKATA__DUM_DUM\" : \"KOLKATA__DUM_DUM\",\"KOTA\" : \"KOTA\",\"KOTA_PBO\" : \"KOTA_PBO\",\"LUCKNOW_AMAUSI\" : \"LUCKNOW_AMAUSI\",\"LUCKNOW_CITY\" : \"LUCKNOW_CITY\",\"LUDHIANA\" : \"LUDHIANA\",\"MADURAI\" : \"MADURAI\",\"MANGALORE\" : \"MANGALORE\",\"MANGALORE_BAJPE\" : \"MANGALORE_BAJPE\",\"MANGALORE_H.P\" : \"MANGALORE_H.P\",\"MORADABAD\" : \"MORADABAD\",\"MUZAFFARPUR\" : \"MUZAFFARPUR\",\"NAGPUR_\" : \"NAGPUR_\",\"NASHIK\" : \"NASHIK\",\"NEW_DELHI_\" : \"NEW_DELHI_\",\"NEW_DELHI_PALAM\" : \"NEW_DELHI_PALAM\",\"PALAYAMKOTTAI\" : \"PALAYAMKOTTAI\",\"PANJIM\" : \"PANJIM\",\"PASIGHAT\" : \"PASIGHAT\",\"PATNA\" : \"PATNA\",\"PORT_BLAIR\" : \"PORT_BLAIR\",\"PUDUCHERRY_\" : \"PUDUCHERRY_\",\"PUNE\" : \"PUNE\",\"RAIPUR\" : \"RAIPUR\",\"RAIPUR_\" : \"RAIPUR_\",\"RAJKOT\" : \"RAJKOT\",\"RAMGUNDAM\" : \"RAMGUNDAM\",\"RANCHI\" : \"RANCHI\",\"SAGAR\" : \"SAGAR\",\"SALEM\" : \"SALEM\",\"SATNA\" : \"SATNA\",\"SHILLONG_\" : \"SHILLONG_\",\"SHIMLA\" : \"SHIMLA\",\"SHIMLA_\" : \"SHIMLA_\",\"SHIMOGA\" : \"SHIMOGA\",\"SOLAPUR\" : \"SOLAPUR\",\"SRINAGAR\" : \"SRINAGAR\",\"SRINAGAR_I.A.F.\" : \"SRINAGAR_I.A.F.\",\"station_list\" : \"station_list\",\"SURAT\" : \"SURAT\",\"T.B.I.A.\" : \"T.B.I.A.\",\"THANJAVUR\" : \"THANJAVUR\",\"THIRUVANANTHAPURAM_\" : \"THIRUVANANTHAPURAM_\",\"TIRUCHIRAPALLI\" : \"TIRUCHIRAPALLI\",\"TIRUCHIRAPALLI_\" : \"TIRUCHIRAPALLI_\",\"TIRUPATHI_\" : \"TIRUPATHI_\",\"TUMKUR\" : \"TUMKUR\",\"TUTICORIN\" : \"TUTICORIN\",\"TUTICORIN_NEW_PORT\" : \"TUTICORIN_NEW_PORT\",\"UDAIPUR_CITY\" : \"UDAIPUR_CITY\",\"UDAIPUR_DABOK\" : \"UDAIPUR_DABOK\",\"UJJAIN\" : \"UJJAIN\",\"VARANASI\" : \"VARANASI\",\"VARANASI_BABATPUR\" : \"VARANASI_BABATPUR\",\"VELLORE\" : \"VELLORE\",\"VISAKHAPATNAM_AIRPORT\" : \"VISAKHAPATNAM_AIRPORT\",\"WARANGAL_REC\" : \"WARANGAL_REC\",}'"
      ]
     },
     "execution_count": 38,
     "metadata": {},
     "output_type": "execute_result"
    }
   ],
   "source": [
    "#globbed_files = glob.glob(\"*.csv\")\n",
    "\n",
    "csvs = glob.glob(os.path.join('*.csv'))\n",
    "\n",
    "aa='{'\n",
    "#a = []\n",
    "for i in (csvs):\n",
    "    aa = aa + f'\"{i[:-4]}\"' + ' : ' + f'\"{i[:-4]}\"' + ','\n",
    "    \n",
    "#     a.append(i[:-4]+\"+':'+i[:-4])\n",
    "    \n",
    "aa= aa + '}'\n",
    "aa\n",
    "  \n",
    "#df = pd.DataFrame(a)\n",
    "    \n",
    "#df.to_csv('station_list.txt')"
   ]
  },
  {
   "cell_type": "code",
   "execution_count": null,
   "metadata": {},
   "outputs": [],
   "source": []
  }
 ],
 "metadata": {
  "kernelspec": {
   "display_name": "Python 3",
   "language": "python",
   "name": "python3"
  },
  "language_info": {
   "codemirror_mode": {
    "name": "ipython",
    "version": 3
   },
   "file_extension": ".py",
   "mimetype": "text/x-python",
   "name": "python",
   "nbconvert_exporter": "python",
   "pygments_lexer": "ipython3",
   "version": "3.8.5"
  }
 },
 "nbformat": 4,
 "nbformat_minor": 4
}
