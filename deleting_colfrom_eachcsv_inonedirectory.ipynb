{
 "cells": [
  {
   "cell_type": "markdown",
   "metadata": {},
   "source": [
    "# This program depicts how to select few rows from all csv files in one directory at a time."
   ]
  },
  {
   "cell_type": "markdown",
   "metadata": {},
   "source": [
    "### author: chandrima "
   ]
  },
  {
   "cell_type": "code",
   "execution_count": 27,
   "metadata": {},
   "outputs": [],
   "source": [
    "import glob"
   ]
  },
  {
   "cell_type": "code",
   "execution_count": 34,
   "metadata": {},
   "outputs": [],
   "source": [
    "import pandas as pd\n",
    "import glob\n",
    "\n",
    "path = r'stations_files1/' # use your path\n",
    "all_files = glob.glob(path + \"/*.csv\")\n",
    "\n",
    "# all_files\n",
    "\n",
    "for filename in all_files:\n",
    "    df = pd.read_csv(filename, usecols=['YEAR', 'MN', 'DT', '..MAX', '..MIN', '..R/F'])\n",
    "    df.to_csv('stations_files_final/'+filename)\n",
    "    \n",
    "\n"
   ]
  },
  {
   "cell_type": "code",
   "execution_count": 32,
   "metadata": {},
   "outputs": [
    {
     "data": {
      "text/plain": [
       "['stations_files1\\\\AGARTALA.csv',\n",
       " 'stations_files1\\\\AGRA.csv',\n",
       " 'stations_files1\\\\AGRA_AERO.csv',\n",
       " 'stations_files1\\\\AHMEDABAD_.csv',\n",
       " 'stations_files1\\\\AIZWAL.csv',\n",
       " 'stations_files1\\\\AIZWAL_LENGPUI_.csv',\n",
       " 'stations_files1\\\\AJMER.csv',\n",
       " 'stations_files1\\\\AJMER_IRRI.csv',\n",
       " 'stations_files1\\\\ALIGARH.csv',\n",
       " 'stations_files1\\\\ALLAHABAD.csv',\n",
       " 'stations_files1\\\\ALLAHABAD_.csv',\n",
       " 'stations_files1\\\\AMRAOTI.csv',\n",
       " 'stations_files1\\\\AMRITSAR.csv',\n",
       " 'stations_files1\\\\AURANGABAD.csv',\n",
       " 'stations_files1\\\\BANGALORE.csv',\n",
       " 'stations_files1\\\\BAREILLY.csv',\n",
       " 'stations_files1\\\\BAREILLY_1.csv',\n",
       " 'stations_files1\\\\BARODA.csv',\n",
       " 'stations_files1\\\\BARODA_COLLEGE.csv',\n",
       " 'stations_files1\\\\BELGAUM.csv',\n",
       " 'stations_files1\\\\BELGAUM_SAMBRE_.csv',\n",
       " 'stations_files1\\\\BHAGALPUR.csv',\n",
       " 'stations_files1\\\\BHOPAL_BAIRAGARH.csv',\n",
       " 'stations_files1\\\\BHUBANESHWAR.csv',\n",
       " 'stations_files1\\\\CHANDIGARH.csv',\n",
       " 'stations_files1\\\\CHANDIGARH_IAF.csv',\n",
       " 'stations_files1\\\\CHENNAI_.csv',\n",
       " 'stations_files1\\\\CHIKALTHANA.csv',\n",
       " 'stations_files1\\\\COIMBATORE_PEELAMEDU_.csv',\n",
       " 'stations_files1\\\\COIMBATORE_TOWN.csv',\n",
       " 'stations_files1\\\\DEHRA_DUN.csv',\n",
       " 'stations_files1\\\\DHARAMSHALA.csv',\n",
       " 'stations_files1\\\\DIU.csv',\n",
       " 'stations_files1\\\\DOHAD.csv',\n",
       " 'stations_files1\\\\ERODE.csv',\n",
       " 'stations_files1\\\\GANGTOK.csv',\n",
       " 'stations_files1\\\\GUWAHATI_BORJHAR.csv',\n",
       " 'stations_files1\\\\GWALIOR.csv',\n",
       " 'stations_files1\\\\IMPHAL_TULIHAL.csv',\n",
       " 'stations_files1\\\\INDORE.csv',\n",
       " 'stations_files1\\\\JABALPUR.csv',\n",
       " 'stations_files1\\\\JAIPUR_IRRI.csv',\n",
       " 'stations_files1\\\\JAIPUR_SANGANER_.csv',\n",
       " 'stations_files1\\\\JAMMU.csv',\n",
       " 'stations_files1\\\\JAMMU_AERO.csv',\n",
       " 'stations_files1\\\\JHANSI.csv',\n",
       " 'stations_files1\\\\KAKINADA.csv',\n",
       " 'stations_files1\\\\KANPUR.csv',\n",
       " 'stations_files1\\\\KANPUR_CHAK.AERO.csv',\n",
       " 'stations_files1\\\\KANPUR_D.R.L..csv',\n",
       " 'stations_files1\\\\KARNAL.csv',\n",
       " 'stations_files1\\\\KAVARATTI.csv',\n",
       " 'stations_files1\\\\KOCHI_.csv',\n",
       " 'stations_files1\\\\KOCHI_A.P..csv',\n",
       " 'stations_files1\\\\KOHIMA.csv',\n",
       " 'stations_files1\\\\KOLKATA_.csv',\n",
       " 'stations_files1\\\\KOLKATA__DUM_DUM.csv',\n",
       " 'stations_files1\\\\KOTA.csv',\n",
       " 'stations_files1\\\\KOTA_PBO.csv',\n",
       " 'stations_files1\\\\LUCKNOW_AMAUSI.csv',\n",
       " 'stations_files1\\\\LUCKNOW_CITY.csv',\n",
       " 'stations_files1\\\\LUDHIANA.csv',\n",
       " 'stations_files1\\\\MADURAI.csv',\n",
       " 'stations_files1\\\\MANGALORE.csv',\n",
       " 'stations_files1\\\\MANGALORE_BAJPE.csv',\n",
       " 'stations_files1\\\\MANGALORE_H.P.csv',\n",
       " 'stations_files1\\\\MORADABAD.csv',\n",
       " 'stations_files1\\\\MUZAFFARPUR.csv',\n",
       " 'stations_files1\\\\NAGPUR_.csv',\n",
       " 'stations_files1\\\\NASHIK.csv',\n",
       " 'stations_files1\\\\NEW_DELHI_.csv',\n",
       " 'stations_files1\\\\NEW_DELHI_PALAM.csv',\n",
       " 'stations_files1\\\\PALAYAMKOTTAI.csv',\n",
       " 'stations_files1\\\\PANJIM.csv',\n",
       " 'stations_files1\\\\PASIGHAT.csv',\n",
       " 'stations_files1\\\\PATNA.csv',\n",
       " 'stations_files1\\\\PORT_BLAIR.csv',\n",
       " 'stations_files1\\\\PUDUCHERRY_.csv',\n",
       " 'stations_files1\\\\PUNE.csv',\n",
       " 'stations_files1\\\\RAIPUR.csv',\n",
       " 'stations_files1\\\\RAIPUR_.csv',\n",
       " 'stations_files1\\\\RAJKOT.csv',\n",
       " 'stations_files1\\\\RAMGUNDAM.csv',\n",
       " 'stations_files1\\\\RANCHI.csv',\n",
       " 'stations_files1\\\\SAGAR.csv',\n",
       " 'stations_files1\\\\SALEM.csv',\n",
       " 'stations_files1\\\\SATNA.csv',\n",
       " 'stations_files1\\\\SHILLONG_.csv',\n",
       " 'stations_files1\\\\SHIMLA.csv',\n",
       " 'stations_files1\\\\SHIMLA_.csv',\n",
       " 'stations_files1\\\\SHIMOGA.csv',\n",
       " 'stations_files1\\\\SOLAPUR.csv',\n",
       " 'stations_files1\\\\SRINAGAR.csv',\n",
       " 'stations_files1\\\\SRINAGAR_I.A.F..csv',\n",
       " 'stations_files1\\\\SURAT.csv',\n",
       " 'stations_files1\\\\T.B.I.A..csv',\n",
       " 'stations_files1\\\\THANJAVUR.csv',\n",
       " 'stations_files1\\\\THIRUVANANTHAPURAM_.csv',\n",
       " 'stations_files1\\\\TIRUCHIRAPALLI.csv',\n",
       " 'stations_files1\\\\TIRUCHIRAPALLI_.csv',\n",
       " 'stations_files1\\\\TIRUPATHI_.csv',\n",
       " 'stations_files1\\\\TUMKUR.csv',\n",
       " 'stations_files1\\\\TUTICORIN.csv',\n",
       " 'stations_files1\\\\TUTICORIN_NEW_PORT.csv',\n",
       " 'stations_files1\\\\UDAIPUR_CITY.csv',\n",
       " 'stations_files1\\\\UDAIPUR_DABOK.csv',\n",
       " 'stations_files1\\\\UJJAIN.csv',\n",
       " 'stations_files1\\\\VARANASI.csv',\n",
       " 'stations_files1\\\\VARANASI_BABATPUR.csv',\n",
       " 'stations_files1\\\\VELLORE.csv',\n",
       " 'stations_files1\\\\VISAKHAPATNAM_AIRPORT.csv',\n",
       " 'stations_files1\\\\WARANGAL_REC.csv']"
      ]
     },
     "execution_count": 32,
     "metadata": {},
     "output_type": "execute_result"
    }
   ],
   "source": [
    "all_files"
   ]
  },
  {
   "cell_type": "code",
   "execution_count": null,
   "metadata": {},
   "outputs": [],
   "source": []
  }
 ],
 "metadata": {
  "kernelspec": {
   "display_name": "Python 3",
   "language": "python",
   "name": "python3"
  },
  "language_info": {
   "codemirror_mode": {
    "name": "ipython",
    "version": 3
   },
   "file_extension": ".py",
   "mimetype": "text/x-python",
   "name": "python",
   "nbconvert_exporter": "python",
   "pygments_lexer": "ipython3",
   "version": "3.8.5"
  }
 },
 "nbformat": 4,
 "nbformat_minor": 4
}
