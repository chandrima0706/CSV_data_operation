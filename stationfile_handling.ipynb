{
 "cells": [
  {
   "cell_type": "markdown",
   "metadata": {},
   "source": [
    "# this programs takes csv files from one directory and then process the column names and duplicate values . at the end it creates ID wise seperate csv files in one directoy"
   ]
  },
  {
   "cell_type": "code",
   "execution_count": 2,
   "metadata": {},
   "outputs": [],
   "source": [
    "import pandas as pd\n",
    "import matplotlib.pyplot as plt"
   ]
  },
  {
   "cell_type": "code",
   "execution_count": 3,
   "metadata": {},
   "outputs": [],
   "source": [
    "df = pd.read_csv('smartcity_daily.txt',comment='-',delim_whitespace=True,\n",
    "            usecols=['INDEX', 'YEAR', 'MN', 'DT', '..MAX', '..MIN', '..R/F'])  #from csv take the columns having name in usecols"
   ]
  },
  {
   "cell_type": "code",
   "execution_count": 4,
   "metadata": {},
   "outputs": [
    {
     "data": {
      "text/html": [
       "<div>\n",
       "<style scoped>\n",
       "    .dataframe tbody tr th:only-of-type {\n",
       "        vertical-align: middle;\n",
       "    }\n",
       "\n",
       "    .dataframe tbody tr th {\n",
       "        vertical-align: top;\n",
       "    }\n",
       "\n",
       "    .dataframe thead th {\n",
       "        text-align: right;\n",
       "    }\n",
       "</style>\n",
       "<table border=\"1\" class=\"dataframe\">\n",
       "  <thead>\n",
       "    <tr style=\"text-align: right;\">\n",
       "      <th></th>\n",
       "      <th>INDEX</th>\n",
       "      <th>YEAR</th>\n",
       "      <th>MN</th>\n",
       "      <th>DT</th>\n",
       "      <th>..MAX</th>\n",
       "      <th>..MIN</th>\n",
       "      <th>..R/F</th>\n",
       "    </tr>\n",
       "  </thead>\n",
       "  <tbody>\n",
       "    <tr>\n",
       "      <th>0</th>\n",
       "      <td>5201</td>\n",
       "      <td>1963</td>\n",
       "      <td>8</td>\n",
       "      <td>1</td>\n",
       "      <td>31.2</td>\n",
       "      <td>24.1</td>\n",
       "      <td>NaN</td>\n",
       "    </tr>\n",
       "    <tr>\n",
       "      <th>1</th>\n",
       "      <td>5201</td>\n",
       "      <td>1963</td>\n",
       "      <td>8</td>\n",
       "      <td>2</td>\n",
       "      <td>33.7</td>\n",
       "      <td>25.7</td>\n",
       "      <td>NaN</td>\n",
       "    </tr>\n",
       "    <tr>\n",
       "      <th>2</th>\n",
       "      <td>5201</td>\n",
       "      <td>1963</td>\n",
       "      <td>8</td>\n",
       "      <td>3</td>\n",
       "      <td>29.4</td>\n",
       "      <td>26.2</td>\n",
       "      <td>NaN</td>\n",
       "    </tr>\n",
       "    <tr>\n",
       "      <th>3</th>\n",
       "      <td>5201</td>\n",
       "      <td>1963</td>\n",
       "      <td>8</td>\n",
       "      <td>4</td>\n",
       "      <td>32.2</td>\n",
       "      <td>24.7</td>\n",
       "      <td>NaN</td>\n",
       "    </tr>\n",
       "    <tr>\n",
       "      <th>4</th>\n",
       "      <td>5201</td>\n",
       "      <td>1963</td>\n",
       "      <td>8</td>\n",
       "      <td>5</td>\n",
       "      <td>32.7</td>\n",
       "      <td>25.5</td>\n",
       "      <td>NaN</td>\n",
       "    </tr>\n",
       "    <tr>\n",
       "      <th>...</th>\n",
       "      <td>...</td>\n",
       "      <td>...</td>\n",
       "      <td>...</td>\n",
       "      <td>...</td>\n",
       "      <td>...</td>\n",
       "      <td>...</td>\n",
       "      <td>...</td>\n",
       "    </tr>\n",
       "    <tr>\n",
       "      <th>2104553</th>\n",
       "      <td>43379</td>\n",
       "      <td>2020</td>\n",
       "      <td>2</td>\n",
       "      <td>25</td>\n",
       "      <td>31.6</td>\n",
       "      <td>24.4</td>\n",
       "      <td>0.0</td>\n",
       "    </tr>\n",
       "    <tr>\n",
       "      <th>2104554</th>\n",
       "      <td>43379</td>\n",
       "      <td>2020</td>\n",
       "      <td>2</td>\n",
       "      <td>26</td>\n",
       "      <td>31.8</td>\n",
       "      <td>24.9</td>\n",
       "      <td>0.0</td>\n",
       "    </tr>\n",
       "    <tr>\n",
       "      <th>2104555</th>\n",
       "      <td>43379</td>\n",
       "      <td>2020</td>\n",
       "      <td>2</td>\n",
       "      <td>27</td>\n",
       "      <td>31.6</td>\n",
       "      <td>24.0</td>\n",
       "      <td>0.0</td>\n",
       "    </tr>\n",
       "    <tr>\n",
       "      <th>2104556</th>\n",
       "      <td>43379</td>\n",
       "      <td>2020</td>\n",
       "      <td>2</td>\n",
       "      <td>28</td>\n",
       "      <td>32.0</td>\n",
       "      <td>24.8</td>\n",
       "      <td>0.0</td>\n",
       "    </tr>\n",
       "    <tr>\n",
       "      <th>2104557</th>\n",
       "      <td>43379</td>\n",
       "      <td>2020</td>\n",
       "      <td>2</td>\n",
       "      <td>29</td>\n",
       "      <td>32.0</td>\n",
       "      <td>24.7</td>\n",
       "      <td>0.0</td>\n",
       "    </tr>\n",
       "  </tbody>\n",
       "</table>\n",
       "<p>2104558 rows × 7 columns</p>\n",
       "</div>"
      ],
      "text/plain": [
       "         INDEX  YEAR  MN  DT  ..MAX  ..MIN  ..R/F\n",
       "0         5201  1963   8   1   31.2   24.1    NaN\n",
       "1         5201  1963   8   2   33.7   25.7    NaN\n",
       "2         5201  1963   8   3   29.4   26.2    NaN\n",
       "3         5201  1963   8   4   32.2   24.7    NaN\n",
       "4         5201  1963   8   5   32.7   25.5    NaN\n",
       "...        ...   ...  ..  ..    ...    ...    ...\n",
       "2104553  43379  2020   2  25   31.6   24.4    0.0\n",
       "2104554  43379  2020   2  26   31.8   24.9    0.0\n",
       "2104555  43379  2020   2  27   31.6   24.0    0.0\n",
       "2104556  43379  2020   2  28   32.0   24.8    0.0\n",
       "2104557  43379  2020   2  29   32.0   24.7    0.0\n",
       "\n",
       "[2104558 rows x 7 columns]"
      ]
     },
     "execution_count": 4,
     "metadata": {},
     "output_type": "execute_result"
    }
   ],
   "source": [
    "df"
   ]
  },
  {
   "cell_type": "code",
   "execution_count": 5,
   "metadata": {},
   "outputs": [],
   "source": [
    "intex = df.INDEX.drop_duplicates().values"
   ]
  },
  {
   "cell_type": "code",
   "execution_count": 6,
   "metadata": {},
   "outputs": [
    {
     "data": {
      "text/plain": [
       "array([ 5201,  5216,  5221,  6203,  6206,  7205,  8206, 10201, 10205,\n",
       "       10207, 14005, 15208, 16201, 42027, 42042, 42055, 42056, 42062,\n",
       "       42071, 42083, 42099, 42105, 42111, 42137, 42181, 42182, 42187,\n",
       "       42189, 42220, 42260, 42261, 42262, 42299, 42343, 42348, 42361,\n",
       "       42366, 42367, 42368, 42369, 42387, 42410, 42451, 42463, 42474,\n",
       "       42475, 42479, 42483, 42492, 42498, 42516, 42527, 42542, 42543,\n",
       "       42571, 42623, 42647, 42662, 42667, 42671, 42675, 42700, 42701,\n",
       "       42724, 42726, 42727, 42737, 42747, 42748, 42751, 42754, 42807,\n",
       "       42809, 42840, 42866, 42867, 42874, 42875, 42914, 42921, 42937,\n",
       "       42971, 43005, 43013, 43014, 43063, 43086, 43117, 43149, 43189,\n",
       "       43192, 43197, 43198, 43258, 43268, 43275, 43278, 43279, 43283,\n",
       "       43284, 43285, 43295, 43296, 43303, 43319, 43321, 43325, 43328,\n",
       "       43330, 43331, 43333, 43336, 43337, 43338, 43343, 43344, 43353,\n",
       "       43359, 43360, 43371, 43372, 43376, 43379], dtype=int64)"
      ]
     },
     "execution_count": 6,
     "metadata": {},
     "output_type": "execute_result"
    }
   ],
   "source": [
    "intex"
   ]
  },
  {
   "cell_type": "code",
   "execution_count": 7,
   "metadata": {},
   "outputs": [],
   "source": [
    "df_n = pd.read_excel('sc_name.xls')\n",
    "df_n = df_n.dropna()"
   ]
  },
  {
   "cell_type": "code",
   "execution_count": 8,
   "metadata": {},
   "outputs": [
    {
     "data": {
      "text/html": [
       "<div>\n",
       "<style scoped>\n",
       "    .dataframe tbody tr th:only-of-type {\n",
       "        vertical-align: middle;\n",
       "    }\n",
       "\n",
       "    .dataframe tbody tr th {\n",
       "        vertical-align: top;\n",
       "    }\n",
       "\n",
       "    .dataframe thead th {\n",
       "        text-align: right;\n",
       "    }\n",
       "</style>\n",
       "<table border=\"1\" class=\"dataframe\">\n",
       "  <thead>\n",
       "    <tr style=\"text-align: right;\">\n",
       "      <th></th>\n",
       "      <th>St.Index_No.</th>\n",
       "      <th>Station_Name</th>\n",
       "    </tr>\n",
       "  </thead>\n",
       "  <tbody>\n",
       "    <tr>\n",
       "      <th>2</th>\n",
       "      <td>43063.0</td>\n",
       "      <td>PUNE</td>\n",
       "    </tr>\n",
       "    <tr>\n",
       "      <th>4</th>\n",
       "      <td>43372.0</td>\n",
       "      <td>THIRUVANANTHAPURAM_(A)_(TRIVANDRUM</td>\n",
       "    </tr>\n",
       "    <tr>\n",
       "      <th>6</th>\n",
       "      <td>43371.0</td>\n",
       "      <td>THIRUVANANTHAPURAM_(TRIVANDRUM)</td>\n",
       "    </tr>\n",
       "    <tr>\n",
       "      <th>8</th>\n",
       "      <td>43353.0</td>\n",
       "      <td>KOCHI_(NAS)</td>\n",
       "    </tr>\n",
       "    <tr>\n",
       "      <th>10</th>\n",
       "      <td>43336.0</td>\n",
       "      <td>KOCHI_A.P.(NEDUMBASSERY)</td>\n",
       "    </tr>\n",
       "    <tr>\n",
       "      <th>...</th>\n",
       "      <td>...</td>\n",
       "      <td>...</td>\n",
       "    </tr>\n",
       "    <tr>\n",
       "      <th>246</th>\n",
       "      <td>42055.0</td>\n",
       "      <td>JAMMU_AERO</td>\n",
       "    </tr>\n",
       "    <tr>\n",
       "      <th>248</th>\n",
       "      <td>43605.0</td>\n",
       "      <td>JAMMU_OLD</td>\n",
       "    </tr>\n",
       "    <tr>\n",
       "      <th>250</th>\n",
       "      <td>42027.0</td>\n",
       "      <td>SRINAGAR</td>\n",
       "    </tr>\n",
       "    <tr>\n",
       "      <th>252</th>\n",
       "      <td>42042.0</td>\n",
       "      <td>SRINAGAR_I.A.F.</td>\n",
       "    </tr>\n",
       "    <tr>\n",
       "      <th>254</th>\n",
       "      <td>43540.0</td>\n",
       "      <td>SRINAGAR(old)</td>\n",
       "    </tr>\n",
       "  </tbody>\n",
       "</table>\n",
       "<p>127 rows × 2 columns</p>\n",
       "</div>"
      ],
      "text/plain": [
       "     St.Index_No.                        Station_Name\n",
       "2         43063.0                                PUNE\n",
       "4         43372.0  THIRUVANANTHAPURAM_(A)_(TRIVANDRUM\n",
       "6         43371.0     THIRUVANANTHAPURAM_(TRIVANDRUM)\n",
       "8         43353.0                         KOCHI_(NAS)\n",
       "10        43336.0            KOCHI_A.P.(NEDUMBASSERY)\n",
       "..            ...                                 ...\n",
       "246       42055.0                          JAMMU_AERO\n",
       "248       43605.0                           JAMMU_OLD\n",
       "250       42027.0                            SRINAGAR\n",
       "252       42042.0                     SRINAGAR_I.A.F.\n",
       "254       43540.0                       SRINAGAR(old)\n",
       "\n",
       "[127 rows x 2 columns]"
      ]
     },
     "execution_count": 8,
     "metadata": {},
     "output_type": "execute_result"
    }
   ],
   "source": [
    "df_n"
   ]
  },
  {
   "cell_type": "code",
   "execution_count": 9,
   "metadata": {},
   "outputs": [],
   "source": [
    "name = df_n[df_n['St.Index_No.'] == intex[0]]"
   ]
  },
  {
   "cell_type": "code",
   "execution_count": 10,
   "metadata": {},
   "outputs": [
    {
     "data": {
      "text/html": [
       "<div>\n",
       "<style scoped>\n",
       "    .dataframe tbody tr th:only-of-type {\n",
       "        vertical-align: middle;\n",
       "    }\n",
       "\n",
       "    .dataframe tbody tr th {\n",
       "        vertical-align: top;\n",
       "    }\n",
       "\n",
       "    .dataframe thead th {\n",
       "        text-align: right;\n",
       "    }\n",
       "</style>\n",
       "<table border=\"1\" class=\"dataframe\">\n",
       "  <thead>\n",
       "    <tr style=\"text-align: right;\">\n",
       "      <th></th>\n",
       "      <th>St.Index_No.</th>\n",
       "      <th>Station_Name</th>\n",
       "    </tr>\n",
       "  </thead>\n",
       "  <tbody>\n",
       "    <tr>\n",
       "      <th>182</th>\n",
       "      <td>5201.0</td>\n",
       "      <td>KANPUR_D.R.L.</td>\n",
       "    </tr>\n",
       "  </tbody>\n",
       "</table>\n",
       "</div>"
      ],
      "text/plain": [
       "     St.Index_No.   Station_Name\n",
       "182        5201.0  KANPUR_D.R.L."
      ]
     },
     "execution_count": 10,
     "metadata": {},
     "output_type": "execute_result"
    }
   ],
   "source": [
    "name"
   ]
  },
  {
   "cell_type": "code",
   "execution_count": 29,
   "metadata": {},
   "outputs": [],
   "source": [
    "for i in range(len(intex)):\n",
    "    name = df_n[df_n['St.Index_No.']==intex[i]]\n",
    "    aa   = df[df['INDEX']==intex[i]]\n",
    "\n",
    "    name = name['Station_Name'].iloc[0].split('(')[0]\n",
    "    name = name.split('(')[0]\n",
    "    name = name.split('/')[0]\n",
    "    name = name.replace(\" \", \"\")\n",
    "    aa = aa[['YEAR', 'MN', 'DT', '..MAX', '..MIN', '..R/F']]\n",
    "    aa.columns = ['year','month','date','tmax','tmin','rain']\n",
    "    aa = aa.reset_index().drop('index',axis=1)\n",
    "    aa.to_csv('station_files/'+name+'.csv', index=False)"
   ]
  },
  {
   "cell_type": "code",
   "execution_count": null,
   "metadata": {},
   "outputs": [],
   "source": []
  }
 ],
 "metadata": {
  "kernelspec": {
   "display_name": "Python 3",
   "language": "python",
   "name": "python3"
  },
  "language_info": {
   "codemirror_mode": {
    "name": "ipython",
    "version": 3
   },
   "file_extension": ".py",
   "mimetype": "text/x-python",
   "name": "python",
   "nbconvert_exporter": "python",
   "pygments_lexer": "ipython3",
   "version": "3.8.5"
  }
 },
 "nbformat": 4,
 "nbformat_minor": 4
}
